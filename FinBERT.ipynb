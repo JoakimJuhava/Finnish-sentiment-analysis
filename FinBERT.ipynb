{
  "nbformat": 4,
  "nbformat_minor": 0,
  "metadata": {
    "colab": {
      "name": "FinBERT",
      "provenance": [],
      "authorship_tag": "ABX9TyNQBzkgIQvrXQiwTb0cpqAS"
    },
    "kernelspec": {
      "name": "python3",
      "display_name": "Python 3"
    },
    "language_info": {
      "name": "python"
    },
    "accelerator": "GPU"
  },
  "cells": [
    {
      "cell_type": "code",
      "metadata": {
        "id": "K8kdSQuYNayH"
      },
      "source": [
        "import csv\n",
        "import pandas as pd\n",
        "import numpy as np\n",
        "import tensorflow as tf\n",
        "import seaborn as sns\n",
        "from sklearn.metrics import classification_report\n",
        "from sklearn.model_selection import train_test_split\n",
        "from transformers import BertTokenizer, TFBertForSequenceClassification"
      ],
      "execution_count": 9,
      "outputs": []
    },
    {
      "cell_type": "code",
      "metadata": {
        "colab": {
          "base_uri": "https://localhost:8080/"
        },
        "id": "T9jkjIEKarRa",
        "outputId": "0c5cb8bc-9324-4edc-8c65-87e7a8bd61dd"
      },
      "source": [
        "#Using Google Colab free GPU\n",
        "%tensorflow_version 2.x\n",
        "import tensorflow as tf\n",
        "device_name = tf.test.gpu_device_name()\n",
        "if device_name != '/device:GPU:0':\n",
        "  raise SystemError('GPU device not found')\n",
        "print('Found GPU at: {}'.format(device_name))"
      ],
      "execution_count": 10,
      "outputs": [
        {
          "output_type": "stream",
          "text": [
            "Found GPU at: /device:GPU:0\n"
          ],
          "name": "stdout"
        }
      ]
    },
    {
      "cell_type": "code",
      "metadata": {
        "id": "UhP6JTVyW1wO"
      },
      "source": [
        "#!pip install transformers"
      ],
      "execution_count": 7,
      "outputs": []
    },
    {
      "cell_type": "code",
      "metadata": {
        "id": "1MyfGLKcUBqa"
      },
      "source": [
        "#from google.colab import drive\n",
        "#drive.mount('/content/drive')"
      ],
      "execution_count": 8,
      "outputs": []
    },
    {
      "cell_type": "code",
      "metadata": {
        "id": "Zv0ACTGcNf7l"
      },
      "source": [
        "def load_FinnSentiment_data():\n",
        "    \"\"\"\n",
        "    Load sentences and labels from FinnSentiment data set.\n",
        "    \"\"\"\n",
        "    df = pd.read_csv('/content/drive/My Drive/FinBERT-training/FinnSentiment2020.tsv', sep='\\t', header=None, quoting=csv.QUOTE_NONE)\n",
        "    df = df.rename(columns={10: \"sentence\", 3: \"label\"})\n",
        "\n",
        "    #change labels to negative = 0, neutral = 1, positive = 2\n",
        "    df['label'] += 1\n",
        "\n",
        "    sentences = df['sentence'].tolist()\n",
        "    labels = df['label'].tolist()\n",
        "\n",
        "    print('number of sentences:', len(sentences))\n",
        "    print('number of labels:', len(labels))\n",
        "    return sentences, labels"
      ],
      "execution_count": 11,
      "outputs": []
    },
    {
      "cell_type": "code",
      "metadata": {
        "id": "o6vWPWzdXr2v"
      },
      "source": [
        "def plot_classification_results(y_test, y_pred):\n",
        "    \"\"\"\n",
        "    Plot test set results\n",
        "    The values in the arrays are 0=negative, 1=neutral and 2=positive\n",
        "    \"\"\"\n",
        "    ax = sns.countplot(x=y_test, hue=y_pred);\n",
        "    ax.set_xticklabels(['negative', 'neutral', 'positive'])\n",
        "    ax.set_xlabel('actual class', fontweight='bold')\n",
        "    ax.legend(['negative', 'neutral', 'positive'], title='predicted class')"
      ],
      "execution_count": 12,
      "outputs": []
    },
    {
      "cell_type": "code",
      "metadata": {
        "colab": {
          "base_uri": "https://localhost:8080/"
        },
        "id": "EYajGV4zNk3H",
        "outputId": "1ca44b2f-7837-423f-80e9-e4230e7d4759"
      },
      "source": [
        "sentences, labels = load_FinnSentiment_data()\n",
        "\n",
        "#lowercase sentences\n",
        "sentences = [sentence.lower() for sentence in sentences]\n",
        "\n",
        "#split data to training set and test set\n",
        "train_sentences, test_sentences, train_labels, test_labels = train_test_split(sentences, labels, test_size=0.20, \n",
        "                                                                              shuffle=True, random_state=1)\n",
        "\n",
        "#split training set to training set and validation set\n",
        "train_sentences, val_sentences, train_labels, val_labels = train_test_split(train_sentences, train_labels,\n",
        "                                                                            test_size=1/8, shuffle=False)\n",
        "\n",
        "print(\"number of training samples:\", len(train_sentences))\n",
        "print(\"number of validation samples:\", len(val_sentences))\n",
        "print(\"number of test samples:\", len(test_sentences))"
      ],
      "execution_count": 17,
      "outputs": [
        {
          "output_type": "stream",
          "text": [
            "number of sentences: 27000\n",
            "number of labels: 27000\n",
            "number of training samples: 18900\n",
            "number of validation samples: 2700\n",
            "number of test samples: 5400\n"
          ],
          "name": "stdout"
        }
      ]
    },
    {
      "cell_type": "code",
      "metadata": {
        "colab": {
          "base_uri": "https://localhost:8080/"
        },
        "id": "HosHE8_zXnJe",
        "outputId": "aa202a6e-7f23-461c-9f5a-60c765138114"
      },
      "source": [
        "model = TFBertForSequenceClassification.from_pretrained('TurkuNLP/bert-base-finnish-uncased-v1', num_labels=3)\n",
        "tokenizer = BertTokenizer.from_pretrained(\"TurkuNLP/bert-base-finnish-uncased-v1\")\n",
        "\n",
        "train_encodings = tokenizer(train_sentences, truncation=True, padding=True, max_length=39)\n",
        "val_encodings = tokenizer(val_sentences, truncation=True, padding=True, max_length=39)\n",
        "test_encodings = tokenizer(test_sentences, truncation=True, padding=True, max_length=39)\n",
        "\n",
        "train_dataset = tf.data.Dataset.from_tensor_slices((\n",
        "    dict(train_encodings),\n",
        "    train_labels\n",
        "))\n",
        "val_dataset = tf.data.Dataset.from_tensor_slices((\n",
        "    dict(val_encodings),\n",
        "    val_labels\n",
        "))\n",
        "test_dataset = tf.data.Dataset.from_tensor_slices(\n",
        "    dict(test_encodings)\n",
        ")\n",
        "\n",
        "model.compile(optimizer=tf.keras.optimizers.Adam(learning_rate=2e-5),\n",
        "              loss=tf.keras.losses.SparseCategoricalCrossentropy(from_logits=True),\n",
        "              metrics=['accuracy'])\n",
        "\n",
        "early_stopping = tf.keras.callbacks.EarlyStopping(monitor='val_accuracy')\n",
        "model.fit(train_dataset.batch(16), validation_data=val_dataset.batch(16), batch_size=16, epochs=10, callbacks=[early_stopping])"
      ],
      "execution_count": 18,
      "outputs": [
        {
          "output_type": "stream",
          "text": [
            "All model checkpoint layers were used when initializing TFBertForSequenceClassification.\n",
            "\n",
            "Some layers of TFBertForSequenceClassification were not initialized from the model checkpoint at TurkuNLP/bert-base-finnish-uncased-v1 and are newly initialized: ['classifier']\n",
            "You should probably TRAIN this model on a down-stream task to be able to use it for predictions and inference.\n"
          ],
          "name": "stderr"
        },
        {
          "output_type": "stream",
          "text": [
            "Epoch 1/10\n",
            "WARNING:tensorflow:The parameters `output_attentions`, `output_hidden_states` and `use_cache` cannot be updated when calling a model.They have to be set to True/False in the config object (i.e.: `config=XConfig.from_pretrained('name', output_attentions=True)`).\n",
            "WARNING:tensorflow:The parameter `return_dict` cannot be set in graph mode and will always be set to `True`.\n",
            "WARNING:tensorflow:The parameters `output_attentions`, `output_hidden_states` and `use_cache` cannot be updated when calling a model.They have to be set to True/False in the config object (i.e.: `config=XConfig.from_pretrained('name', output_attentions=True)`).\n",
            "WARNING:tensorflow:The parameter `return_dict` cannot be set in graph mode and will always be set to `True`.\n",
            "1182/1182 [==============================] - ETA: 0s - loss: 0.4440 - accuracy: 0.8278WARNING:tensorflow:The parameters `output_attentions`, `output_hidden_states` and `use_cache` cannot be updated when calling a model.They have to be set to True/False in the config object (i.e.: `config=XConfig.from_pretrained('name', output_attentions=True)`).\n",
            "WARNING:tensorflow:The parameter `return_dict` cannot be set in graph mode and will always be set to `True`.\n",
            "1182/1182 [==============================] - 202s 160ms/step - loss: 0.4440 - accuracy: 0.8279 - val_loss: 0.3584 - val_accuracy: 0.8500\n",
            "Epoch 2/10\n",
            "1182/1182 [==============================] - 193s 163ms/step - loss: 0.2428 - accuracy: 0.9107 - val_loss: 0.4094 - val_accuracy: 0.8452\n"
          ],
          "name": "stdout"
        },
        {
          "output_type": "execute_result",
          "data": {
            "text/plain": [
              "<tensorflow.python.keras.callbacks.History at 0x7fb437f34ed0>"
            ]
          },
          "metadata": {
            "tags": []
          },
          "execution_count": 18
        }
      ]
    },
    {
      "cell_type": "code",
      "metadata": {
        "colab": {
          "base_uri": "https://localhost:8080/",
          "height": 501
        },
        "id": "dZqbgywKXnXt",
        "outputId": "6f8629b2-714a-4a99-af47-d3d40b232bdd"
      },
      "source": [
        "#make test set predictions\n",
        "output = model.predict(test_dataset.batch(16))\n",
        "y_pred = output['logits']\n",
        "\n",
        "#choose the class with the highest probability to be the prediction\n",
        "y_pred = tf.math.argmax(y_pred, axis=1)\n",
        "y_pred = np.array(y_pred)\n",
        "\n",
        "print(classification_report(test_labels, y_pred))\n",
        "plot_classification_results(test_labels, y_pred)"
      ],
      "execution_count": 19,
      "outputs": [
        {
          "output_type": "stream",
          "text": [
            "WARNING:tensorflow:The parameters `output_attentions`, `output_hidden_states` and `use_cache` cannot be updated when calling a model.They have to be set to True/False in the config object (i.e.: `config=XConfig.from_pretrained('name', output_attentions=True)`).\n",
            "WARNING:tensorflow:The parameter `return_dict` cannot be set in graph mode and will always be set to `True`.\n",
            "              precision    recall  f1-score   support\n",
            "\n",
            "           0       0.64      0.69      0.66       819\n",
            "           1       0.92      0.88      0.90      3963\n",
            "           2       0.73      0.86      0.79       618\n",
            "\n",
            "    accuracy                           0.85      5400\n",
            "   macro avg       0.76      0.81      0.78      5400\n",
            "weighted avg       0.85      0.85      0.85      5400\n",
            "\n"
          ],
          "name": "stdout"
        },
        {
          "output_type": "display_data",
          "data": {
            "image/png": "[encoded data removed]",
            "text/plain": [
              "<Figure size 432x288 with 1 Axes>"
            ]
          },
          "metadata": {
            "tags": [],
            "needs_background": "light"
          }
        }
      ]
    },
    {
      "cell_type": "code",
      "metadata": {
        "colab": {
          "base_uri": "https://localhost:8080/"
        },
        "id": "sawaO9B1Xlvh",
        "outputId": "b5b3107f-6277-4b6a-e493-3ffc7893c350"
      },
      "source": [
        "print(\"y_pred shape:\", y_pred.shape)\n",
        "\n",
        "np.save('/content/drive/My Drive/FinBERT-training/FinBERT-test-predictions.npy', y_pred)"
      ],
      "execution_count": 20,
      "outputs": [
        {
          "output_type": "stream",
          "text": [
            "y_pred shape: (5400,)\n"
          ],
          "name": "stdout"
        }
      ]
    }
  ]
}